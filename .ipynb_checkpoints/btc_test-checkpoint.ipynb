{
 "cells": [
  {
   "cell_type": "code",
   "execution_count": null,
   "id": "405f8937-bb0d-4619-933e-4f05cb9f8329",
   "metadata": {},
   "outputs": [],
   "source": [
    "os.chdir('C:\\\\users\\\\larry\\\\fin_analysis\\\\btc\\\\line_plots')\n",
    "plt.style.use('default')\n",
    "fig, axs = plt.subplots(2, 4, sharey=False, tight_layout=False)\n",
    "counter = 0\n",
    "for j,i in enumerate(list(btc_df)[1:-1]): \n",
    "    axs[j//4,counter].plot(btc_df['height'],\n",
    "             btc_df[i],\n",
    "             #color='#FFECBCFF'\n",
    "            )    \n",
    "    plt.xlabel('Block Height')\n",
    "    plt.ylabel('y-axis')\n",
    "    plt.title(f\"{snake_to_norm(i)} Plot\")\n",
    "    counter += 1\n",
    "    if j == 3:\n",
    "        counter = 0\n",
    "    # Save the image\n",
    "    #plt.savefig(f'{i}.png')"
   ]
  }
 ],
 "metadata": {
  "kernelspec": {
   "display_name": "Python 3 (ipykernel)",
   "language": "python",
   "name": "python3"
  },
  "language_info": {
   "codemirror_mode": {
    "name": "ipython",
    "version": 3
   },
   "file_extension": ".py",
   "mimetype": "text/x-python",
   "name": "python",
   "nbconvert_exporter": "python",
   "pygments_lexer": "ipython3",
   "version": "3.8.12"
  }
 },
 "nbformat": 4,
 "nbformat_minor": 5
}
